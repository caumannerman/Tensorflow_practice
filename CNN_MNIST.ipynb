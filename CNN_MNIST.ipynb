{
  "nbformat": 4,
  "nbformat_minor": 0,
  "metadata": {
    "kernelspec": {
      "display_name": "Python 3",
      "language": "python",
      "name": "python3"
    },
    "language_info": {
      "codemirror_mode": {
        "name": "ipython",
        "version": 3
      },
      "file_extension": ".py",
      "mimetype": "text/x-python",
      "name": "python",
      "nbconvert_exporter": "python",
      "pygments_lexer": "ipython3",
      "version": "3.7.6"
    },
    "colab": {
      "name": "CNN_MNIST.ipynb",
      "provenance": [],
      "collapsed_sections": [],
      "include_colab_link": true
    },
    "accelerator": "GPU"
  },
  "cells": [
    {
      "cell_type": "markdown",
      "metadata": {
        "id": "view-in-github",
        "colab_type": "text"
      },
      "source": [
        "<a href=\"https://colab.research.google.com/github/caumannerman/Tensorflow_practice/blob/main/CNN_MNIST.ipynb\" target=\"_parent\"><img src=\"https://colab.research.google.com/assets/colab-badge.svg\" alt=\"Open In Colab\"/></a>"
      ]
    },
    {
      "cell_type": "code",
      "metadata": {
        "id": "S4V3q46lQkbQ"
      },
      "source": [
        "import numpy as np\n",
        "import tensorflow as tf\n",
        "from tensorflow.keras.datasets import mnist\n",
        "from tensorflow.keras.models import Sequential\n",
        "from tensorflow.keras.layers import Conv2D, MaxPool2D\n",
        "from tensorflow.keras.layers import Flatten, Dense, Dropout\n",
        "\n"
      ],
      "execution_count": 18,
      "outputs": []
    },
    {
      "cell_type": "code",
      "metadata": {
        "id": "A6N8nQRfQkbT"
      },
      "source": [
        "# mnist data불러옴\n",
        "(x_train, y_train), (x_test, y_test) = mnist.load_data()"
      ],
      "execution_count": 19,
      "outputs": []
    },
    {
      "cell_type": "code",
      "metadata": {
        "colab": {
          "base_uri": "https://localhost:8080/"
        },
        "id": "H_g9QP5aQkbU",
        "outputId": "513707d1-5652-4d8c-f50a-9bf4b1c15a30"
      },
      "source": [
        "print(x_train.shape, y_train.shape, x_test.shape, y_test.shape)"
      ],
      "execution_count": 20,
      "outputs": [
        {
          "output_type": "stream",
          "text": [
            "(60000, 28, 28) (60000,) (10000, 28, 28) (10000,)\n"
          ],
          "name": "stdout"
        }
      ]
    },
    {
      "cell_type": "code",
      "metadata": {
        "id": "jL7x6lXHQkbU"
      },
      "source": [
        "# -1은 현상 유지한다는 뜻 \n",
        "\n",
        "# 텐서로 변환하는 것.\n",
        "x_train = x_train.reshape(-1,28,28,1)\n",
        "x_test = x_test.reshape(-1,28,28,1)"
      ],
      "execution_count": 21,
      "outputs": []
    },
    {
      "cell_type": "code",
      "metadata": {
        "colab": {
          "base_uri": "https://localhost:8080/"
        },
        "id": "VEYd0o9SQkbV",
        "outputId": "2973471a-ffa1-423d-9141-52bc14cdde41"
      },
      "source": [
        "print(x_train.shape, x_test.shape)"
      ],
      "execution_count": 22,
      "outputs": [
        {
          "output_type": "stream",
          "text": [
            "(60000, 28, 28, 1) (10000, 28, 28, 1)\n"
          ],
          "name": "stdout"
        }
      ]
    },
    {
      "cell_type": "code",
      "metadata": {
        "colab": {
          "base_uri": "https://localhost:8080/"
        },
        "id": "LN0n3ntKQkbV",
        "outputId": "0421a8f5-0323-439d-e3f2-e454d9501860"
      },
      "source": [
        "x_train.dtype"
      ],
      "execution_count": 23,
      "outputs": [
        {
          "output_type": "execute_result",
          "data": {
            "text/plain": [
              "dtype('uint8')"
            ]
          },
          "metadata": {
            "tags": []
          },
          "execution_count": 23
        }
      ]
    },
    {
      "cell_type": "code",
      "metadata": {
        "id": "eZ3SD4liQkbW"
      },
      "source": [
        "# 타입 변환 + \"정규화\"\n",
        "x_train = x_train.astype(np.float32) / 255\n",
        "x_test = x_test.astype(np.float32) / 255"
      ],
      "execution_count": 24,
      "outputs": []
    },
    {
      "cell_type": "code",
      "metadata": {
        "colab": {
          "base_uri": "https://localhost:8080/"
        },
        "id": "CGOE7qq5QkbW",
        "outputId": "2f4b166f-a7da-4c4f-d0cc-8a1638a39d47"
      },
      "source": [
        "print(x_train[0][0])\n",
        "print(x_train.dtype, x_test.dtype)\n"
      ],
      "execution_count": 25,
      "outputs": [
        {
          "output_type": "stream",
          "text": [
            "[[0.]\n",
            " [0.]\n",
            " [0.]\n",
            " [0.]\n",
            " [0.]\n",
            " [0.]\n",
            " [0.]\n",
            " [0.]\n",
            " [0.]\n",
            " [0.]\n",
            " [0.]\n",
            " [0.]\n",
            " [0.]\n",
            " [0.]\n",
            " [0.]\n",
            " [0.]\n",
            " [0.]\n",
            " [0.]\n",
            " [0.]\n",
            " [0.]\n",
            " [0.]\n",
            " [0.]\n",
            " [0.]\n",
            " [0.]\n",
            " [0.]\n",
            " [0.]\n",
            " [0.]\n",
            " [0.]]\n",
            "float32 float32\n"
          ],
          "name": "stdout"
        }
      ]
    },
    {
      "cell_type": "markdown",
      "metadata": {
        "id": "6pNxHzkWQkbX"
      },
      "source": [
        "# CNN 모델 구축"
      ]
    },
    {
      "cell_type": "code",
      "metadata": {
        "id": "LHU-I0knQkbX"
      },
      "source": [
        "cnn = Sequential()"
      ],
      "execution_count": 26,
      "outputs": []
    },
    {
      "cell_type": "markdown",
      "metadata": {
        "id": "_AEOgKutQkbX"
      },
      "source": [
        "## Layer 추가"
      ]
    },
    {
      "cell_type": "code",
      "metadata": {
        "id": "9nRt06h6QkbY"
      },
      "source": [
        "# Conv층 2개 \n",
        "cnn.add(Conv2D(input_shape=(28,28,1), kernel_size=(3,3),filters=32, activation='relu'))\n",
        "cnn.add(Conv2D(kernel_size=(3,3),filters=64, activation='relu'))\n",
        "# Pooling\n",
        "cnn.add(MaxPool2D(pool_size=(2,2)))\n",
        "cnn.add(Dropout(0.25))\n",
        "\n",
        "# Feature Extractor ==> Classifier 사이 Flatten\n",
        "# 3차원 이미지를 1차원 벡터로!\n",
        "cnn.add(Flatten())\n",
        "\n",
        "# Classifier\n",
        "cnn.add(Dense(128, activation='relu'))\n",
        "cnn.add(Dropout(0.5))\n",
        "cnn.add(Dense(10, activation='softmax'))"
      ],
      "execution_count": 27,
      "outputs": []
    },
    {
      "cell_type": "code",
      "metadata": {
        "id": "ic07kqU3QkbY"
      },
      "source": [
        "cnn.compile(loss = 'sparse_categorical_crossentropy', optimizer=tf.keras.optimizers.Adam(), metrics=['accuracy'])"
      ],
      "execution_count": 28,
      "outputs": []
    },
    {
      "cell_type": "code",
      "metadata": {
        "colab": {
          "base_uri": "https://localhost:8080/"
        },
        "id": "FGwJ6xfwQkbY",
        "outputId": "a76f7aaa-f8e3-4995-e3ba-2e3cf1c80431"
      },
      "source": [
        "hist = cnn.fit(x_train, y_train, batch_size=128, epochs=30, validation_data=(x_test, y_test))"
      ],
      "execution_count": 29,
      "outputs": [
        {
          "output_type": "stream",
          "text": [
            "Epoch 1/30\n",
            "469/469 [==============================] - 35s 9ms/step - loss: 0.2448 - accuracy: 0.9250 - val_loss: 0.0516 - val_accuracy: 0.9844\n",
            "Epoch 2/30\n",
            "469/469 [==============================] - 4s 8ms/step - loss: 0.0861 - accuracy: 0.9739 - val_loss: 0.0383 - val_accuracy: 0.9879\n",
            "Epoch 3/30\n",
            "469/469 [==============================] - 4s 8ms/step - loss: 0.0627 - accuracy: 0.9809 - val_loss: 0.0324 - val_accuracy: 0.9891\n",
            "Epoch 4/30\n",
            "469/469 [==============================] - 4s 8ms/step - loss: 0.0516 - accuracy: 0.9848 - val_loss: 0.0297 - val_accuracy: 0.9898\n",
            "Epoch 5/30\n",
            "469/469 [==============================] - 4s 8ms/step - loss: 0.0435 - accuracy: 0.9866 - val_loss: 0.0291 - val_accuracy: 0.9896\n",
            "Epoch 6/30\n",
            "469/469 [==============================] - 4s 8ms/step - loss: 0.0390 - accuracy: 0.9876 - val_loss: 0.0278 - val_accuracy: 0.9911\n",
            "Epoch 7/30\n",
            "469/469 [==============================] - 4s 8ms/step - loss: 0.0325 - accuracy: 0.9897 - val_loss: 0.0284 - val_accuracy: 0.9914\n",
            "Epoch 8/30\n",
            "469/469 [==============================] - 4s 8ms/step - loss: 0.0309 - accuracy: 0.9905 - val_loss: 0.0267 - val_accuracy: 0.9920\n",
            "Epoch 9/30\n",
            "469/469 [==============================] - 4s 8ms/step - loss: 0.0287 - accuracy: 0.9907 - val_loss: 0.0260 - val_accuracy: 0.9922\n",
            "Epoch 10/30\n",
            "469/469 [==============================] - 4s 8ms/step - loss: 0.0244 - accuracy: 0.9922 - val_loss: 0.0249 - val_accuracy: 0.9929\n",
            "Epoch 11/30\n",
            "469/469 [==============================] - 4s 8ms/step - loss: 0.0223 - accuracy: 0.9929 - val_loss: 0.0296 - val_accuracy: 0.9910\n",
            "Epoch 12/30\n",
            "469/469 [==============================] - 4s 8ms/step - loss: 0.0218 - accuracy: 0.9927 - val_loss: 0.0280 - val_accuracy: 0.9920\n",
            "Epoch 13/30\n",
            "469/469 [==============================] - 4s 8ms/step - loss: 0.0200 - accuracy: 0.9930 - val_loss: 0.0347 - val_accuracy: 0.9913\n",
            "Epoch 14/30\n",
            "469/469 [==============================] - 4s 8ms/step - loss: 0.0197 - accuracy: 0.9935 - val_loss: 0.0313 - val_accuracy: 0.9919\n",
            "Epoch 15/30\n",
            "469/469 [==============================] - 4s 8ms/step - loss: 0.0183 - accuracy: 0.9934 - val_loss: 0.0293 - val_accuracy: 0.9918\n",
            "Epoch 16/30\n",
            "469/469 [==============================] - 4s 8ms/step - loss: 0.0169 - accuracy: 0.9946 - val_loss: 0.0279 - val_accuracy: 0.9927\n",
            "Epoch 17/30\n",
            "469/469 [==============================] - 4s 8ms/step - loss: 0.0156 - accuracy: 0.9943 - val_loss: 0.0300 - val_accuracy: 0.9924\n",
            "Epoch 18/30\n",
            "469/469 [==============================] - 4s 8ms/step - loss: 0.0151 - accuracy: 0.9945 - val_loss: 0.0315 - val_accuracy: 0.9919\n",
            "Epoch 19/30\n",
            "469/469 [==============================] - 4s 8ms/step - loss: 0.0135 - accuracy: 0.9952 - val_loss: 0.0295 - val_accuracy: 0.9922\n",
            "Epoch 20/30\n",
            "469/469 [==============================] - 4s 8ms/step - loss: 0.0127 - accuracy: 0.9956 - val_loss: 0.0290 - val_accuracy: 0.9925\n",
            "Epoch 21/30\n",
            "469/469 [==============================] - 4s 8ms/step - loss: 0.0130 - accuracy: 0.9957 - val_loss: 0.0311 - val_accuracy: 0.9927\n",
            "Epoch 22/30\n",
            "469/469 [==============================] - 4s 8ms/step - loss: 0.0145 - accuracy: 0.9952 - val_loss: 0.0303 - val_accuracy: 0.9921\n",
            "Epoch 23/30\n",
            "469/469 [==============================] - 4s 8ms/step - loss: 0.0109 - accuracy: 0.9962 - val_loss: 0.0364 - val_accuracy: 0.9914\n",
            "Epoch 24/30\n",
            "469/469 [==============================] - 4s 8ms/step - loss: 0.0120 - accuracy: 0.9960 - val_loss: 0.0326 - val_accuracy: 0.9934\n",
            "Epoch 25/30\n",
            "469/469 [==============================] - 4s 8ms/step - loss: 0.0110 - accuracy: 0.9962 - val_loss: 0.0381 - val_accuracy: 0.9925\n",
            "Epoch 26/30\n",
            "469/469 [==============================] - 4s 8ms/step - loss: 0.0110 - accuracy: 0.9962 - val_loss: 0.0272 - val_accuracy: 0.9934\n",
            "Epoch 27/30\n",
            "469/469 [==============================] - 4s 8ms/step - loss: 0.0105 - accuracy: 0.9964 - val_loss: 0.0331 - val_accuracy: 0.9928\n",
            "Epoch 28/30\n",
            "469/469 [==============================] - 4s 8ms/step - loss: 0.0099 - accuracy: 0.9965 - val_loss: 0.0306 - val_accuracy: 0.9940\n",
            "Epoch 29/30\n",
            "469/469 [==============================] - 4s 8ms/step - loss: 0.0103 - accuracy: 0.9964 - val_loss: 0.0285 - val_accuracy: 0.9942\n",
            "Epoch 30/30\n",
            "469/469 [==============================] - 4s 8ms/step - loss: 0.0101 - accuracy: 0.9965 - val_loss: 0.0290 - val_accuracy: 0.9939\n"
          ],
          "name": "stdout"
        }
      ]
    },
    {
      "cell_type": "code",
      "metadata": {
        "colab": {
          "base_uri": "https://localhost:8080/"
        },
        "id": "fe70is1BQkbZ",
        "outputId": "ab6517ca-0630-40ed-abc4-48d47e9f0b26"
      },
      "source": [
        "cnn.evaluate(x_test, y_test)"
      ],
      "execution_count": 30,
      "outputs": [
        {
          "output_type": "stream",
          "text": [
            "313/313 [==============================] - 1s 2ms/step - loss: 0.0290 - accuracy: 0.9939\n"
          ],
          "name": "stdout"
        },
        {
          "output_type": "execute_result",
          "data": {
            "text/plain": [
              "[0.028981246054172516, 0.9939000010490417]"
            ]
          },
          "metadata": {
            "tags": []
          },
          "execution_count": 30
        }
      ]
    },
    {
      "cell_type": "code",
      "metadata": {
        "id": "DznBwPGwQkba"
      },
      "source": [
        "import matplotlib.pyplot as plt"
      ],
      "execution_count": 31,
      "outputs": []
    },
    {
      "cell_type": "code",
      "metadata": {
        "colab": {
          "base_uri": "https://localhost:8080/",
          "height": 295
        },
        "id": "QPxfPGpjQkba",
        "outputId": "37f019d8-50ca-4539-b980-3616b4e2193e"
      },
      "source": [
        "plt.plot(hist.history['accuracy'])\n",
        "plt.plot(hist.history['val_accuracy'])\n",
        "plt.title('Accuracy Trend')\n",
        "plt.ylabel('accuracy')\n",
        "plt.xlabel('epoch')\n",
        "\n",
        "plt.legend(['train', 'validation'], loc='best')\n",
        "plt.grid()\n",
        "plt.show()"
      ],
      "execution_count": 32,
      "outputs": [
        {
          "output_type": "display_data",
          "data": {
            "image/png": "[encoded data removed]",
            "text/plain": [
              "<Figure size 432x288 with 1 Axes>"
            ]
          },
          "metadata": {
            "tags": [],
            "needs_background": "light"
          }
        }
      ]
    },
    {
      "cell_type": "code",
      "metadata": {
        "colab": {
          "base_uri": "https://localhost:8080/",
          "height": 295
        },
        "id": "6wQhPq4GQkba",
        "outputId": "fa743323-6700-459c-c17b-f97fcc86d4b4"
      },
      "source": [
        "plt.plot(hist.history['loss'])\n",
        "plt.plot(hist.history['val_loss'])\n",
        "plt.title('loss Trend')\n",
        "plt.ylabel('loss')\n",
        "plt.xlabel('epoch')\n",
        "\n",
        "plt.legend(['train', 'validation'], loc='best')\n",
        "plt.grid()\n",
        "plt.show()"
      ],
      "execution_count": 33,
      "outputs": [
        {
          "output_type": "display_data",
          "data": {
            "image/png": "[encoded data removed]",
            "text/plain": [
              "<Figure size 432x288 with 1 Axes>"
            ]
          },
          "metadata": {
            "tags": [],
            "needs_background": "light"
          }
        }
      ]
    },
    {
      "cell_type": "code",
      "metadata": {
        "id": "CoHZzDXlSgTz"
      },
      "source": [
        "$$ "
      ],
      "execution_count": null,
      "outputs": []
    },
    {
      "cell_type": "markdown",
      "metadata": {
        "id": "m0M4DXPZSjWi"
      },
      "source": [
        "CNN_ MNIST DATA Classification !"
      ]
    },
    {
      "cell_type": "code",
      "metadata": {
        "id": "FMUuJYzISmdj"
      },
      "source": [
        ""
      ],
      "execution_count": null,
      "outputs": []
    },
    {
      "cell_type": "markdown",
      "metadata": {
        "id": "l8LPNqLRS1m0"
      },
      "source": [
        "The End"
      ]
    },
    {
      "cell_type": "code",
      "metadata": {
        "id": "53dSzIv-S2cP"
      },
      "source": [
        ""
      ],
      "execution_count": null,
      "outputs": []
    }
  ]
}
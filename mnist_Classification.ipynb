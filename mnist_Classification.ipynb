{
 "cells": [
  {
   "cell_type": "code",
   "execution_count": 48,
   "metadata": {},
   "outputs": [],
   "source": [
    "import tensorflow as tf\n",
    "import numpy as np\n",
    "from tensorflow.keras.datasets import mnist\n",
    "import matplotlib.pyplot as plt"
   ]
  },
  {
   "cell_type": "code",
   "execution_count": 49,
   "metadata": {},
   "outputs": [],
   "source": [
    "(x_train, t_train), (x_test, t_test) = mnist.load_data()"
   ]
  },
  {
   "cell_type": "code",
   "execution_count": 50,
   "metadata": {},
   "outputs": [
    {
     "data": {
      "text/plain": [
       "(60000, 28, 28)"
      ]
     },
     "execution_count": 50,
     "metadata": {},
     "output_type": "execute_result"
    }
   ],
   "source": [
    "x_train.shape"
   ]
  },
  {
   "cell_type": "code",
   "execution_count": 51,
   "metadata": {},
   "outputs": [
    {
     "data": {
      "text/plain": [
       "(60000,)"
      ]
     },
     "execution_count": 51,
     "metadata": {},
     "output_type": "execute_result"
    }
   ],
   "source": [
    "t_train.shape"
   ]
  },
  {
   "cell_type": "code",
   "execution_count": 52,
   "metadata": {},
   "outputs": [
    {
     "data": {
      "text/plain": [
       "(10000, 28, 28)"
      ]
     },
     "execution_count": 52,
     "metadata": {},
     "output_type": "execute_result"
    }
   ],
   "source": [
    "x_test.shape"
   ]
  },
  {
   "cell_type": "code",
   "execution_count": 53,
   "metadata": {},
   "outputs": [
    {
     "data": {
      "text/plain": [
       "(10000,)"
      ]
     },
     "execution_count": 53,
     "metadata": {},
     "output_type": "execute_result"
    }
   ],
   "source": [
    "t_test.shape"
   ]
  },
  {
   "cell_type": "code",
   "execution_count": 54,
   "metadata": {},
   "outputs": [
    {
     "data": {
      "text/plain": [
       "5"
      ]
     },
     "execution_count": 54,
     "metadata": {},
     "output_type": "execute_result"
    }
   ],
   "source": [
    "t_train[0]\n"
   ]
  },
  {
   "cell_type": "code",
   "execution_count": 55,
   "metadata": {},
   "outputs": [
    {
     "data": {
      "image/png": "[encoded data removed]",
      "text/plain": [
       "<Figure size 432x288 with 1 Axes>"
      ]
     },
     "metadata": {
      "needs_background": "light"
     },
     "output_type": "display_data"
    }
   ],
   "source": [
    "plt.imshow(x_train[0], cmap='gray')\n",
    "plt.show()"
   ]
  },
  {
   "cell_type": "code",
   "execution_count": 56,
   "metadata": {},
   "outputs": [
    {
     "data": {
      "image/png": "[encoded data removed]",
      "text/plain": [
       "<Figure size 432x288 with 25 Axes>"
      ]
     },
     "metadata": {
      "needs_background": "light"
     },
     "output_type": "display_data"
    }
   ],
   "source": [
    "for i in range(25):\n",
    "    plt.subplot(5,5,i+1)\n",
    "    plt.imshow(x_train[i], cmap='gray')\n",
    "    plt.axis('off')\n",
    "plt.show()"
   ]
  },
  {
   "cell_type": "markdown",
   "metadata": {},
   "source": [
    "# data 전처리"
   ]
  },
  {
   "cell_type": "code",
   "execution_count": 57,
   "metadata": {},
   "outputs": [],
   "source": [
    "# 학습데이터 / 테스트 데이터 전처리\n",
    "x_train = (x_train - 0.0)/255\n",
    "x_test = (x_test - 0.0) / 255"
   ]
  },
  {
   "cell_type": "code",
   "execution_count": 58,
   "metadata": {},
   "outputs": [
    {
     "name": "stdout",
     "output_type": "stream",
     "text": [
      "0.0 1.0\n"
     ]
    },
    {
     "data": {
      "image/png": "[encoded data removed]",
      "text/plain": [
       "<Figure size 432x288 with 1 Axes>"
      ]
     },
     "metadata": {
      "needs_background": "light"
     },
     "output_type": "display_data"
    }
   ],
   "source": [
    "print(np.min(x_train), np.max(x_train))\n",
    "plt.imshow(x_train[0], cmap='gray')\n",
    "plt.show()"
   ]
  },
  {
   "cell_type": "code",
   "execution_count": 59,
   "metadata": {},
   "outputs": [
    {
     "name": "stdout",
     "output_type": "stream",
     "text": [
      "float64 float64\n"
     ]
    }
   ],
   "source": [
    "print(x_train.dtype, x_test.dtype)"
   ]
  },
  {
   "cell_type": "code",
   "execution_count": 60,
   "metadata": {},
   "outputs": [
    {
     "name": "stdout",
     "output_type": "stream",
     "text": [
      "(60000,) (10000,)\n"
     ]
    }
   ],
   "source": [
    "print(t_train.shape, t_test.shape)"
   ]
  },
  {
   "cell_type": "code",
   "execution_count": 61,
   "metadata": {},
   "outputs": [],
   "source": [
    "# One-hot encoding\n",
    "t_train = tf.keras.utils.to_categorical(t_train, num_classes=10)\n",
    "t_test = tf.keras.utils.to_categorical(t_test, num_classes=10)"
   ]
  },
  {
   "cell_type": "code",
   "execution_count": 62,
   "metadata": {},
   "outputs": [
    {
     "name": "stdout",
     "output_type": "stream",
     "text": [
      "(60000, 10) (10000, 10)\n"
     ]
    }
   ],
   "source": [
    "print(t_train.shape, t_test.shape)"
   ]
  },
  {
   "cell_type": "code",
   "execution_count": 63,
   "metadata": {},
   "outputs": [
    {
     "name": "stdout",
     "output_type": "stream",
     "text": [
      "[[0. 0. 0. 0. 0. 1. 0. 0. 0. 0.]\n",
      " [1. 0. 0. 0. 0. 0. 0. 0. 0. 0.]\n",
      " [0. 0. 0. 0. 1. 0. 0. 0. 0. 0.]\n",
      " [0. 1. 0. 0. 0. 0. 0. 0. 0. 0.]\n",
      " [0. 0. 0. 0. 0. 0. 0. 0. 0. 1.]]\n"
     ]
    }
   ],
   "source": [
    "#one-hot encoding 되었음을 알 수 있다.\n",
    "print(t_train[0:5])"
   ]
  },
  {
   "cell_type": "markdown",
   "metadata": {},
   "source": [
    "# model 구축, compile"
   ]
  },
  {
   "cell_type": "code",
   "execution_count": 64,
   "metadata": {},
   "outputs": [],
   "source": [
    "model = tf.keras.Sequential()\n"
   ]
  },
  {
   "cell_type": "markdown",
   "metadata": {},
   "source": [
    "# Layer add"
   ]
  },
  {
   "cell_type": "code",
   "execution_count": 65,
   "metadata": {},
   "outputs": [],
   "source": [
    "#28 * 28 크기의 2차원 이미지를 784개의 1차원 벡터로 변환\n",
    "model.add(tf.keras.layers.Flatten(input_shape = (28,28)))\n",
    "model.add(tf.keras.layers.Dense(100, activation='relu'))\n",
    "model.add(tf.keras.layers.Dense(10, activation='softmax'))\n"
   ]
  },
  {
   "cell_type": "code",
   "execution_count": 66,
   "metadata": {},
   "outputs": [],
   "source": [
    "model.compile(optimizer=tf.keras.optimizers.Adam(learning_rate=1e-3), \n",
    "              loss='categorical_crossentropy',metrics=['accuracy'])\n"
   ]
  },
  {
   "cell_type": "code",
   "execution_count": 67,
   "metadata": {},
   "outputs": [
    {
     "name": "stdout",
     "output_type": "stream",
     "text": [
      "Model: \"sequential_1\"\n",
      "_________________________________________________________________\n",
      "Layer (type)                 Output Shape              Param #   \n",
      "=================================================================\n",
      "flatten_1 (Flatten)          (None, 784)               0         \n",
      "_________________________________________________________________\n",
      "dense_2 (Dense)              (None, 100)               78500     \n",
      "_________________________________________________________________\n",
      "dense_3 (Dense)              (None, 10)                1010      \n",
      "=================================================================\n",
      "Total params: 79,510\n",
      "Trainable params: 79,510\n",
      "Non-trainable params: 0\n",
      "_________________________________________________________________\n"
     ]
    }
   ],
   "source": [
    "model.summary()"
   ]
  },
  {
   "cell_type": "code",
   "execution_count": 68,
   "metadata": {},
   "outputs": [
    {
     "name": "stdout",
     "output_type": "stream",
     "text": [
      "Epoch 1/30\n",
      "1313/1313 [==============================] - 2s 1ms/step - loss: 0.5257 - accuracy: 0.8537 - val_loss: 0.1883 - val_accuracy: 0.9461\n",
      "Epoch 2/30\n",
      "1313/1313 [==============================] - 1s 911us/step - loss: 0.1550 - accuracy: 0.9539 - val_loss: 0.1356 - val_accuracy: 0.9608\n",
      "Epoch 3/30\n",
      "1313/1313 [==============================] - 1s 919us/step - loss: 0.0991 - accuracy: 0.9711 - val_loss: 0.1292 - val_accuracy: 0.9611\n",
      "Epoch 4/30\n",
      "1313/1313 [==============================] - 1s 1ms/step - loss: 0.0727 - accuracy: 0.9782 - val_loss: 0.1124 - val_accuracy: 0.9684\n",
      "Epoch 5/30\n",
      "1313/1313 [==============================] - 1s 1ms/step - loss: 0.0545 - accuracy: 0.9842 - val_loss: 0.1170 - val_accuracy: 0.9678\n",
      "Epoch 6/30\n",
      "1313/1313 [==============================] - 1s 973us/step - loss: 0.0440 - accuracy: 0.9873 - val_loss: 0.1074 - val_accuracy: 0.9698\n",
      "Epoch 7/30\n",
      "1313/1313 [==============================] - 1s 940us/step - loss: 0.0352 - accuracy: 0.9900 - val_loss: 0.0990 - val_accuracy: 0.9717\n",
      "Epoch 8/30\n",
      "1313/1313 [==============================] - 1s 972us/step - loss: 0.0283 - accuracy: 0.9921 - val_loss: 0.1122 - val_accuracy: 0.9696\n",
      "Epoch 9/30\n",
      "1313/1313 [==============================] - 1s 1ms/step - loss: 0.0216 - accuracy: 0.9937 - val_loss: 0.1057 - val_accuracy: 0.9720\n",
      "Epoch 10/30\n",
      "1313/1313 [==============================] - 1s 958us/step - loss: 0.0183 - accuracy: 0.9949 - val_loss: 0.1096 - val_accuracy: 0.9715\n",
      "Epoch 11/30\n",
      "1313/1313 [==============================] - 1s 919us/step - loss: 0.0142 - accuracy: 0.9966 - val_loss: 0.1298 - val_accuracy: 0.9663\n",
      "Epoch 12/30\n",
      "1313/1313 [==============================] - 1s 926us/step - loss: 0.0126 - accuracy: 0.9965 - val_loss: 0.1246 - val_accuracy: 0.9704\n",
      "Epoch 13/30\n",
      "1313/1313 [==============================] - 1s 932us/step - loss: 0.0116 - accuracy: 0.9973 - val_loss: 0.1098 - val_accuracy: 0.9735\n",
      "Epoch 14/30\n",
      "1313/1313 [==============================] - 1s 951us/step - loss: 0.0109 - accuracy: 0.9969 - val_loss: 0.1196 - val_accuracy: 0.9723\n",
      "Epoch 15/30\n",
      "1313/1313 [==============================] - 1s 912us/step - loss: 0.0094 - accuracy: 0.9976 - val_loss: 0.1206 - val_accuracy: 0.9736\n",
      "Epoch 16/30\n",
      "1313/1313 [==============================] - 1s 914us/step - loss: 0.0083 - accuracy: 0.9976 - val_loss: 0.1316 - val_accuracy: 0.9724\n",
      "Epoch 17/30\n",
      "1313/1313 [==============================] - 1s 970us/step - loss: 0.0052 - accuracy: 0.9990 - val_loss: 0.1486 - val_accuracy: 0.9693\n",
      "Epoch 18/30\n",
      "1313/1313 [==============================] - 1s 932us/step - loss: 0.0101 - accuracy: 0.9967 - val_loss: 0.1309 - val_accuracy: 0.9715\n",
      "Epoch 19/30\n",
      "1313/1313 [==============================] - 1s 954us/step - loss: 0.0044 - accuracy: 0.9990 - val_loss: 0.1293 - val_accuracy: 0.9747\n",
      "Epoch 20/30\n",
      "1313/1313 [==============================] - 1s 915us/step - loss: 0.0045 - accuracy: 0.9987 - val_loss: 0.1285 - val_accuracy: 0.9753\n",
      "Epoch 21/30\n",
      "1313/1313 [==============================] - 1s 915us/step - loss: 0.0054 - accuracy: 0.9984 - val_loss: 0.1449 - val_accuracy: 0.9714\n",
      "Epoch 22/30\n",
      "1313/1313 [==============================] - 1s 919us/step - loss: 0.0044 - accuracy: 0.9985 - val_loss: 0.1438 - val_accuracy: 0.9726\n",
      "Epoch 23/30\n",
      "1313/1313 [==============================] - 1s 940us/step - loss: 0.0060 - accuracy: 0.9981 - val_loss: 0.1410 - val_accuracy: 0.9747\n",
      "Epoch 24/30\n",
      "1313/1313 [==============================] - 1s 929us/step - loss: 0.0045 - accuracy: 0.9985 - val_loss: 0.1739 - val_accuracy: 0.9703\n",
      "Epoch 25/30\n",
      "1313/1313 [==============================] - 1s 924us/step - loss: 0.0045 - accuracy: 0.9987 - val_loss: 0.1589 - val_accuracy: 0.9720\n",
      "Epoch 26/30\n",
      "1313/1313 [==============================] - 1s 945us/step - loss: 0.0041 - accuracy: 0.9989 - val_loss: 0.1528 - val_accuracy: 0.9719\n",
      "Epoch 27/30\n",
      "1313/1313 [==============================] - 1s 955us/step - loss: 0.0029 - accuracy: 0.9989 - val_loss: 0.1486 - val_accuracy: 0.9747\n",
      "Epoch 28/30\n",
      "1313/1313 [==============================] - 1s 991us/step - loss: 7.6782e-04 - accuracy: 0.9999 - val_loss: 0.1486 - val_accuracy: 0.9756\n",
      "Epoch 29/30\n",
      "1313/1313 [==============================] - 1s 945us/step - loss: 0.0012 - accuracy: 0.9998 - val_loss: 0.1884 - val_accuracy: 0.9671\n",
      "Epoch 30/30\n",
      "1313/1313 [==============================] - 1s 952us/step - loss: 0.0077 - accuracy: 0.9976 - val_loss: 0.1527 - val_accuracy: 0.9738\n"
     ]
    }
   ],
   "source": [
    "# validation_split값은, training data에서 \"얼마만큼의 비율\"로 validation data생성 후, \n",
    "# 오버피팅 확인할지를 정하는 것\n",
    "hist = model.fit(x_train, t_train, epochs=30, validation_split = 0.3)\n",
    "# model.fit함수의 return 값은 hist.history['loss'] 그리고, hist.history['accuracy']와\n",
    "#같이 저장된다."
   ]
  },
  {
   "cell_type": "code",
   "execution_count": 69,
   "metadata": {},
   "outputs": [
    {
     "name": "stdout",
     "output_type": "stream",
     "text": [
      "313/313 [==============================] - 0s 586us/step - loss: 0.1294 - accuracy: 0.9768\n"
     ]
    },
    {
     "data": {
      "text/plain": [
       "[0.129365473985672, 0.9768000245094299]"
      ]
     },
     "execution_count": 69,
     "metadata": {},
     "output_type": "execute_result"
    }
   ],
   "source": [
    "model.evaluate(x_test, t_test)"
   ]
  },
  {
   "cell_type": "code",
   "execution_count": 71,
   "metadata": {},
   "outputs": [
    {
     "data": {
      "image/png": "[encoded data removed]",
      "text/plain": [
       "<Figure size 432x288 with 1 Axes>"
      ]
     },
     "metadata": {
      "needs_background": "light"
     },
     "output_type": "display_data"
    }
   ],
   "source": [
    "plt.title('Loss')\n",
    "plt.xlabel('epochs')\n",
    "plt.ylabel('loss')\n",
    "plt.grid()\n",
    "\n",
    "plt.plot(hist.history['loss'], label='train_loss')\n",
    "plt.plot(hist.history['val_loss'], label='validation loss')\n",
    "\n",
    "plt.legend(loc='best')\n",
    "plt.show()"
   ]
  },
  {
   "cell_type": "code",
   "execution_count": 73,
   "metadata": {},
   "outputs": [
    {
     "data": {
      "image/png": "[encoded data removed]",
      "text/plain": [
       "<Figure size 432x288 with 1 Axes>"
      ]
     },
     "metadata": {
      "needs_background": "light"
     },
     "output_type": "display_data"
    }
   ],
   "source": [
    "plt.title('Accuracy')\n",
    "plt.xlabel('epochs')\n",
    "plt.ylabel('accuracy')\n",
    "plt.grid()\n",
    "\n",
    "plt.plot(hist.history['accuracy'], label='train_accuracy',color = 'red')\n",
    "plt.plot(hist.history['val_accuracy'], label='validation accuracy')\n",
    "\n",
    "plt.legend(loc='best')\n",
    "plt.show()"
   ]
  },
  {
   "cell_type": "markdown",
   "metadata": {},
   "source": [
    "# 혼동행렬( confusion matrix)"
   ]
  },
  {
   "cell_type": "code",
   "execution_count": null,
   "metadata": {},
   "outputs": [],
   "source": []
  }
 ],
 "metadata": {
  "kernelspec": {
   "display_name": "Python 3",
   "language": "python",
   "name": "python3"
  },
  "language_info": {
   "codemirror_mode": {
    "name": "ipython",
    "version": 3
   },
   "file_extension": ".py",
   "mimetype": "text/x-python",
   "name": "python",
   "nbconvert_exporter": "python",
   "pygments_lexer": "ipython3",
   "version": "3.7.6"
  }
 },
 "nbformat": 4,
 "nbformat_minor": 4
}

{
 "cells": [
  {
   "cell_type": "code",
   "execution_count": 89,
   "metadata": {},
   "outputs": [],
   "source": [
    "import tensorflow as tf\n",
    "import numpy as np\n",
    "from tensorflow.keras.datasets import mnist\n",
    "import matplotlib.pyplot as plt"
   ]
  },
  {
   "cell_type": "code",
   "execution_count": 90,
   "metadata": {},
   "outputs": [],
   "source": [
    "(x_train, t_train), (x_test, t_test) = mnist.load_data()"
   ]
  },
  {
   "cell_type": "code",
   "execution_count": 91,
   "metadata": {},
   "outputs": [
    {
     "data": {
      "text/plain": [
       "(60000, 28, 28)"
      ]
     },
     "execution_count": 91,
     "metadata": {},
     "output_type": "execute_result"
    }
   ],
   "source": [
    "x_train.shape"
   ]
  },
  {
   "cell_type": "code",
   "execution_count": 92,
   "metadata": {},
   "outputs": [
    {
     "data": {
      "text/plain": [
       "(60000,)"
      ]
     },
     "execution_count": 92,
     "metadata": {},
     "output_type": "execute_result"
    }
   ],
   "source": [
    "t_train.shape"
   ]
  },
  {
   "cell_type": "code",
   "execution_count": 93,
   "metadata": {},
   "outputs": [
    {
     "data": {
      "text/plain": [
       "(10000, 28, 28)"
      ]
     },
     "execution_count": 93,
     "metadata": {},
     "output_type": "execute_result"
    }
   ],
   "source": [
    "x_test.shape"
   ]
  },
  {
   "cell_type": "code",
   "execution_count": 94,
   "metadata": {},
   "outputs": [
    {
     "data": {
      "text/plain": [
       "(10000,)"
      ]
     },
     "execution_count": 94,
     "metadata": {},
     "output_type": "execute_result"
    }
   ],
   "source": [
    "t_test.shape"
   ]
  },
  {
   "cell_type": "code",
   "execution_count": 95,
   "metadata": {},
   "outputs": [
    {
     "data": {
      "text/plain": [
       "5"
      ]
     },
     "execution_count": 95,
     "metadata": {},
     "output_type": "execute_result"
    }
   ],
   "source": [
    "t_train[0]\n"
   ]
  },
  {
   "cell_type": "code",
   "execution_count": 96,
   "metadata": {},
   "outputs": [
    {
     "data": {
      "image/png": "[encoded data removed]",
      "text/plain": [
       "<Figure size 432x288 with 1 Axes>"
      ]
     },
     "metadata": {
      "needs_background": "light"
     },
     "output_type": "display_data"
    }
   ],
   "source": [
    "plt.imshow(x_train[0], cmap='gray')\n",
    "plt.show()"
   ]
  },
  {
   "cell_type": "code",
   "execution_count": 97,
   "metadata": {},
   "outputs": [
    {
     "data": {
      "image/png": "[encoded data removed]",
      "text/plain": [
       "<Figure size 432x288 with 25 Axes>"
      ]
     },
     "metadata": {
      "needs_background": "light"
     },
     "output_type": "display_data"
    }
   ],
   "source": [
    "for i in range(25):\n",
    "    plt.subplot(5,5,i+1)\n",
    "    plt.imshow(x_train[i], cmap='gray')\n",
    "    plt.axis('off')\n",
    "plt.show()"
   ]
  },
  {
   "cell_type": "markdown",
   "metadata": {},
   "source": [
    "# data 전처리"
   ]
  },
  {
   "cell_type": "code",
   "execution_count": 98,
   "metadata": {},
   "outputs": [],
   "source": [
    "# 학습데이터 / 테스트 데이터 전처리\n",
    "x_train = (x_train - 0.0)/255\n",
    "x_test = (x_test - 0.0) / 255"
   ]
  },
  {
   "cell_type": "code",
   "execution_count": 99,
   "metadata": {},
   "outputs": [
    {
     "name": "stdout",
     "output_type": "stream",
     "text": [
      "0.0 1.0\n"
     ]
    },
    {
     "data": {
      "image/png": "[encoded data removed]",
      "text/plain": [
       "<Figure size 432x288 with 1 Axes>"
      ]
     },
     "metadata": {
      "needs_background": "light"
     },
     "output_type": "display_data"
    }
   ],
   "source": [
    "print(np.min(x_train), np.max(x_train))\n",
    "plt.imshow(x_train[0], cmap='gray')\n",
    "plt.show()"
   ]
  },
  {
   "cell_type": "code",
   "execution_count": 100,
   "metadata": {},
   "outputs": [
    {
     "name": "stdout",
     "output_type": "stream",
     "text": [
      "float64 float64\n"
     ]
    }
   ],
   "source": [
    "print(x_train.dtype, x_test.dtype)"
   ]
  },
  {
   "cell_type": "code",
   "execution_count": 101,
   "metadata": {},
   "outputs": [
    {
     "name": "stdout",
     "output_type": "stream",
     "text": [
      "(60000,) (10000,)\n"
     ]
    }
   ],
   "source": [
    "print(t_train.shape, t_test.shape)"
   ]
  },
  {
   "cell_type": "code",
   "execution_count": 102,
   "metadata": {},
   "outputs": [],
   "source": [
    "# One-hot encoding\n",
    "t_train = tf.keras.utils.to_categorical(t_train, num_classes=10)\n",
    "t_test = tf.keras.utils.to_categorical(t_test, num_classes=10)"
   ]
  },
  {
   "cell_type": "code",
   "execution_count": 103,
   "metadata": {},
   "outputs": [
    {
     "name": "stdout",
     "output_type": "stream",
     "text": [
      "(60000, 10) (10000, 10)\n"
     ]
    }
   ],
   "source": [
    "print(t_train.shape, t_test.shape)"
   ]
  },
  {
   "cell_type": "code",
   "execution_count": 104,
   "metadata": {},
   "outputs": [
    {
     "name": "stdout",
     "output_type": "stream",
     "text": [
      "[[0. 0. 0. 0. 0. 1. 0. 0. 0. 0.]\n",
      " [1. 0. 0. 0. 0. 0. 0. 0. 0. 0.]\n",
      " [0. 0. 0. 0. 1. 0. 0. 0. 0. 0.]\n",
      " [0. 1. 0. 0. 0. 0. 0. 0. 0. 0.]\n",
      " [0. 0. 0. 0. 0. 0. 0. 0. 0. 1.]]\n"
     ]
    }
   ],
   "source": [
    "#one-hot encoding 되었음을 알 수 있다.\n",
    "print(t_train[0:5])"
   ]
  },
  {
   "cell_type": "markdown",
   "metadata": {},
   "source": [
    "# model 구축, compile"
   ]
  },
  {
   "cell_type": "code",
   "execution_count": 105,
   "metadata": {},
   "outputs": [],
   "source": [
    "model = tf.keras.Sequential()\n"
   ]
  },
  {
   "cell_type": "markdown",
   "metadata": {},
   "source": [
    "# Layer add"
   ]
  },
  {
   "cell_type": "code",
   "execution_count": 107,
   "metadata": {},
   "outputs": [],
   "source": [
    "#28 * 28 크기의 2차원 이미지를 784개의 1차원 벡터로 변환\n",
    "model.add(tf.keras.layers.Flatten(input_shape = (28,28)))\n",
    "model.add(tf.keras.layers.Dense(100, activation='relu'))\n",
    "model.add(tf.keras.layers.Dense(10, activation='softmax'))\n"
   ]
  },
  {
   "cell_type": "code",
   "execution_count": 108,
   "metadata": {},
   "outputs": [],
   "source": [
    "model.compile(optimizer=tf.keras.optimizers.Adam(learning_rate=1e-3), \n",
    "              loss='categorical_crossentropy',metrics=['accuracy'])\n"
   ]
  },
  {
   "cell_type": "code",
   "execution_count": 109,
   "metadata": {},
   "outputs": [
    {
     "name": "stdout",
     "output_type": "stream",
     "text": [
      "Model: \"sequential_2\"\n",
      "_________________________________________________________________\n",
      "Layer (type)                 Output Shape              Param #   \n",
      "=================================================================\n",
      "flatten_2 (Flatten)          (None, 784)               0         \n",
      "_________________________________________________________________\n",
      "dense_4 (Dense)              (None, 100)               78500     \n",
      "_________________________________________________________________\n",
      "dense_5 (Dense)              (None, 10)                1010      \n",
      "=================================================================\n",
      "Total params: 79,510\n",
      "Trainable params: 79,510\n",
      "Non-trainable params: 0\n",
      "_________________________________________________________________\n"
     ]
    }
   ],
   "source": [
    "model.summary()"
   ]
  },
  {
   "cell_type": "code",
   "execution_count": 110,
   "metadata": {},
   "outputs": [
    {
     "name": "stdout",
     "output_type": "stream",
     "text": [
      "Epoch 1/30\n",
      "1313/1313 [==============================] - 2s 1ms/step - loss: 0.5197 - accuracy: 0.8534 - val_loss: 0.1846 - val_accuracy: 0.9474\n",
      "Epoch 2/30\n",
      "1313/1313 [==============================] - 1s 901us/step - loss: 0.1555 - accuracy: 0.9535 - val_loss: 0.1415 - val_accuracy: 0.9600\n",
      "Epoch 3/30\n",
      "1313/1313 [==============================] - 1s 902us/step - loss: 0.1068 - accuracy: 0.9676 - val_loss: 0.1204 - val_accuracy: 0.9654\n",
      "Epoch 4/30\n",
      "1313/1313 [==============================] - 1s 975us/step - loss: 0.0719 - accuracy: 0.9798 - val_loss: 0.1112 - val_accuracy: 0.9682\n",
      "Epoch 5/30\n",
      "1313/1313 [==============================] - 1s 926us/step - loss: 0.0579 - accuracy: 0.9827 - val_loss: 0.1068 - val_accuracy: 0.9683\n",
      "Epoch 6/30\n",
      "1313/1313 [==============================] - 1s 943us/step - loss: 0.0448 - accuracy: 0.9868 - val_loss: 0.1113 - val_accuracy: 0.9678\n",
      "Epoch 7/30\n",
      "1313/1313 [==============================] - 1s 947us/step - loss: 0.0377 - accuracy: 0.9890 - val_loss: 0.0975 - val_accuracy: 0.9713\n",
      "Epoch 8/30\n",
      "1313/1313 [==============================] - 1s 951us/step - loss: 0.0290 - accuracy: 0.9922 - val_loss: 0.0995 - val_accuracy: 0.9708\n",
      "Epoch 9/30\n",
      "1313/1313 [==============================] - 1s 1ms/step - loss: 0.0233 - accuracy: 0.9937 - val_loss: 0.1011 - val_accuracy: 0.9709\n",
      "Epoch 10/30\n",
      "1313/1313 [==============================] - 1s 959us/step - loss: 0.0172 - accuracy: 0.9956 - val_loss: 0.1134 - val_accuracy: 0.9707\n",
      "Epoch 11/30\n",
      "1313/1313 [==============================] - 1s 996us/step - loss: 0.0155 - accuracy: 0.9954 - val_loss: 0.1106 - val_accuracy: 0.9723\n",
      "Epoch 12/30\n",
      "1313/1313 [==============================] - 1s 971us/step - loss: 0.0141 - accuracy: 0.9955 - val_loss: 0.1129 - val_accuracy: 0.9717\n",
      "Epoch 13/30\n",
      "1313/1313 [==============================] - 1s 959us/step - loss: 0.0101 - accuracy: 0.9973 - val_loss: 0.1210 - val_accuracy: 0.9713\n",
      "Epoch 14/30\n",
      "1313/1313 [==============================] - 1s 950us/step - loss: 0.0099 - accuracy: 0.9973 - val_loss: 0.1254 - val_accuracy: 0.9707\n",
      "Epoch 15/30\n",
      "1313/1313 [==============================] - 1s 959us/step - loss: 0.0109 - accuracy: 0.9969 - val_loss: 0.1337 - val_accuracy: 0.9704\n",
      "Epoch 16/30\n",
      "1313/1313 [==============================] - 1s 971us/step - loss: 0.0079 - accuracy: 0.9981 - val_loss: 0.1262 - val_accuracy: 0.9722\n",
      "Epoch 17/30\n",
      "1313/1313 [==============================] - 1s 937us/step - loss: 0.0062 - accuracy: 0.9983 - val_loss: 0.1398 - val_accuracy: 0.9704\n",
      "Epoch 18/30\n",
      "1313/1313 [==============================] - 1s 931us/step - loss: 0.0047 - accuracy: 0.9987 - val_loss: 0.1259 - val_accuracy: 0.9739\n",
      "Epoch 19/30\n",
      "1313/1313 [==============================] - 1s 1ms/step - loss: 0.0066 - accuracy: 0.9980 - val_loss: 0.1279 - val_accuracy: 0.9730\n",
      "Epoch 20/30\n",
      "1313/1313 [==============================] - 1s 972us/step - loss: 0.0070 - accuracy: 0.9978 - val_loss: 0.1404 - val_accuracy: 0.9721\n",
      "Epoch 21/30\n",
      "1313/1313 [==============================] - 1s 939us/step - loss: 0.0048 - accuracy: 0.9988 - val_loss: 0.1298 - val_accuracy: 0.9743\n",
      "Epoch 22/30\n",
      "1313/1313 [==============================] - 1s 966us/step - loss: 0.0039 - accuracy: 0.9991 - val_loss: 0.1329 - val_accuracy: 0.9719\n",
      "Epoch 23/30\n",
      "1313/1313 [==============================] - 1s 995us/step - loss: 0.0034 - accuracy: 0.9992 - val_loss: 0.1491 - val_accuracy: 0.9706\n",
      "Epoch 24/30\n",
      "1313/1313 [==============================] - 1s 1ms/step - loss: 0.0052 - accuracy: 0.9985 - val_loss: 0.1394 - val_accuracy: 0.9734\n",
      "Epoch 25/30\n",
      "1313/1313 [==============================] - 1s 968us/step - loss: 0.0034 - accuracy: 0.9989 - val_loss: 0.1368 - val_accuracy: 0.9746\n",
      "Epoch 26/30\n",
      "1313/1313 [==============================] - 1s 1ms/step - loss: 0.0039 - accuracy: 0.9988 - val_loss: 0.1536 - val_accuracy: 0.9727\n",
      "Epoch 27/30\n",
      "1313/1313 [==============================] - 1s 967us/step - loss: 0.0037 - accuracy: 0.9988 - val_loss: 0.1396 - val_accuracy: 0.9739\n",
      "Epoch 28/30\n",
      "1313/1313 [==============================] - 1s 949us/step - loss: 0.0012 - accuracy: 0.9998 - val_loss: 0.1570 - val_accuracy: 0.9727\n",
      "Epoch 29/30\n",
      "1313/1313 [==============================] - 1s 969us/step - loss: 0.0049 - accuracy: 0.9984 - val_loss: 0.1572 - val_accuracy: 0.9721\n",
      "Epoch 30/30\n",
      "1313/1313 [==============================] - 1s 989us/step - loss: 0.0032 - accuracy: 0.9991 - val_loss: 0.1470 - val_accuracy: 0.9750\n"
     ]
    }
   ],
   "source": [
    "# validation_split값은, training data에서 \"얼마만큼의 비율\"로 validation data생성 후, \n",
    "# 오버피팅 확인할지를 정하는 것\n",
    "hist = model.fit(x_train, t_train, epochs=30, validation_split = 0.3)\n",
    "# model.fit함수의 return 값은 hist.history['loss'] 그리고, hist.history['accuracy']와\n",
    "#같이 저장된다."
   ]
  },
  {
   "cell_type": "code",
   "execution_count": 111,
   "metadata": {
    "scrolled": true
   },
   "outputs": [
    {
     "name": "stdout",
     "output_type": "stream",
     "text": [
      "313/313 [==============================] - 0s 529us/step - loss: 0.1406 - accuracy: 0.9761\n"
     ]
    },
    {
     "data": {
      "text/plain": [
       "[0.1405981034040451, 0.9761000275611877]"
      ]
     },
     "execution_count": 111,
     "metadata": {},
     "output_type": "execute_result"
    }
   ],
   "source": [
    "model.evaluate(x_test, t_test)"
   ]
  },
  {
   "cell_type": "code",
   "execution_count": 112,
   "metadata": {},
   "outputs": [
    {
     "data": {
      "image/png": "[encoded data removed]",
      "text/plain": [
       "<Figure size 432x288 with 1 Axes>"
      ]
     },
     "metadata": {
      "needs_background": "light"
     },
     "output_type": "display_data"
    }
   ],
   "source": [
    "plt.title('Loss')\n",
    "plt.xlabel('epochs')\n",
    "plt.ylabel('loss')\n",
    "plt.grid()\n",
    "\n",
    "plt.plot(hist.history['loss'], label='train_loss')\n",
    "plt.plot(hist.history['val_loss'], label='validation loss')\n",
    "\n",
    "plt.legend(loc='best')\n",
    "plt.show()"
   ]
  },
  {
   "cell_type": "code",
   "execution_count": 113,
   "metadata": {},
   "outputs": [
    {
     "data": {
      "image/png": "[encoded data removed]",
      "text/plain": [
       "<Figure size 432x288 with 1 Axes>"
      ]
     },
     "metadata": {
      "needs_background": "light"
     },
     "output_type": "display_data"
    }
   ],
   "source": [
    "plt.title('Accuracy')\n",
    "plt.xlabel('epochs')\n",
    "plt.ylabel('accuracy')\n",
    "plt.grid()\n",
    "\n",
    "plt.plot(hist.history['accuracy'], label='train_accuracy',color = 'red')\n",
    "plt.plot(hist.history['val_accuracy'], label='validation accuracy')\n",
    "\n",
    "plt.legend(loc='best')\n",
    "plt.show()"
   ]
  },
  {
   "cell_type": "markdown",
   "metadata": {},
   "source": [
    "# 혼동행렬( confusion matrix)"
   ]
  },
  {
   "cell_type": "code",
   "execution_count": 114,
   "metadata": {},
   "outputs": [],
   "source": [
    "from sklearn.metrics import confusion_matrix\n",
    "import seaborn as sns"
   ]
  },
  {
   "cell_type": "code",
   "execution_count": 121,
   "metadata": {},
   "outputs": [
    {
     "name": "stdout",
     "output_type": "stream",
     "text": [
      "(10000, 28, 28)\n",
      "(10000, 10)\n",
      "(10000, 10)\n",
      "(10, 10)\n"
     ]
    },
    {
     "data": {
      "image/png": "[encoded data removed]",
      "text/plain": [
       "<Figure size 432x432 with 2 Axes>"
      ]
     },
     "metadata": {
      "needs_background": "light"
     },
     "output_type": "display_data"
    }
   ],
   "source": [
    "plt.figure(figsize=(6,6))\n",
    "\n",
    "print(x_test.shape)\n",
    "# model.predict(테스트데이터) ==> 만든 model을 통해 나온 결과를 return ( one-hot encoding형태로 !!!)\n",
    "predicted_value = model.predict(x_test)\n",
    "\n",
    "print(predicted_value.shape)\n",
    "print(t_test.shape)\n",
    "\n",
    "#confusion_matrix ==>  predict한 값과, \n",
    "cm = confusion_matrix(np.argmax(t_test, axis=-1),\n",
    "                     np.argmax(predicted_value, axis = -1))\n",
    "print(cm.shape)\n",
    "sns.heatmap(cm, annot=True, fmt='d')\n",
    "plt.show()"
   ]
  },
  {
   "cell_type": "code",
   "execution_count": 116,
   "metadata": {},
   "outputs": [
    {
     "name": "stdout",
     "output_type": "stream",
     "text": [
      "[[ 970    0    1    0    1    1    3    1    3    0]\n",
      " [   0 1127    1    2    0    0    2    1    2    0]\n",
      " [   7    1  998    8    5    0    2    5    5    1]\n",
      " [   1    0    2  988    0    2    1    3    6    7]\n",
      " [   0    1    1    1  957    0    5    3    2   12]\n",
      " [   3    0    0    8    1  868    5    1    3    3]\n",
      " [   5    2    2    1    9    5  933    0    1    0]\n",
      " [   3    4   11    4    0    0    0  997    3    6]\n",
      " [   5    0    4    5    4    3    1    2  945    5]\n",
      " [   2    5    0    6    9    4    0    3    2  978]]\n",
      "\n",
      "label = 0\t ( 970 / 980) \taccuracy = 0.990\n",
      "label = 1\t ( 1127 / 1135) \taccuracy = 0.993\n",
      "label = 2\t ( 998 / 1032) \taccuracy = 0.967\n",
      "label = 3\t ( 988 / 1010) \taccuracy = 0.978\n",
      "label = 4\t ( 957 / 982) \taccuracy = 0.975\n",
      "label = 5\t ( 868 / 892) \taccuracy = 0.973\n",
      "label = 6\t ( 933 / 958) \taccuracy = 0.974\n",
      "label = 7\t ( 997 / 1028) \taccuracy = 0.970\n",
      "label = 8\t ( 945 / 974) \taccuracy = 0.970\n",
      "label = 9\t ( 978 / 1009) \taccuracy = 0.969\n"
     ]
    }
   ],
   "source": [
    "print(cm)\n",
    "print()\n",
    "for i in range(10):\n",
    "    print(('label = %d\\t ( %d / %d) \\taccuracy = %.3f') %\n",
    "         (i, np.max(cm[i]), np.sum(cm[i]), np.max(cm[i])/np.sum(cm[i])))"
   ]
  },
  {
   "cell_type": "code",
   "execution_count": null,
   "metadata": {},
   "outputs": [],
   "source": []
  }
 ],
 "metadata": {
  "kernelspec": {
   "display_name": "Python 3",
   "language": "python",
   "name": "python3"
  },
  "language_info": {
   "codemirror_mode": {
    "name": "ipython",
    "version": 3
   },
   "file_extension": ".py",
   "mimetype": "text/x-python",
   "name": "python",
   "nbconvert_exporter": "python",
   "pygments_lexer": "ipython3",
   "version": "3.7.6"
  }
 },
 "nbformat": 4,
 "nbformat_minor": 4
}

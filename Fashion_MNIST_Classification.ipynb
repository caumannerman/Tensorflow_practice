{
 "cells": [
  {
   "cell_type": "code",
   "execution_count": 18,
   "metadata": {},
   "outputs": [],
   "source": [
    "import tensorflow as tf\n",
    "import numpy as np\n",
    "from tensorflow.keras.datasets import fashion_mnist"
   ]
  },
  {
   "cell_type": "code",
   "execution_count": 19,
   "metadata": {},
   "outputs": [],
   "source": [
    "(x_train, t_train), (x_test, t_test) = fashion_mnist.load_data()"
   ]
  },
  {
   "cell_type": "code",
   "execution_count": 20,
   "metadata": {},
   "outputs": [
    {
     "name": "stdout",
     "output_type": "stream",
     "text": [
      "(60000, 28, 28) (60000,) (10000, 28, 28) (10000,)\n"
     ]
    }
   ],
   "source": [
    "print(x_train.shape, t_train.shape, x_test.shape, t_test.shape)"
   ]
  },
  {
   "cell_type": "code",
   "execution_count": 21,
   "metadata": {},
   "outputs": [
    {
     "name": "stdout",
     "output_type": "stream",
     "text": [
      "[9 0 0 3 0 2 7 2 5 5]\n"
     ]
    }
   ],
   "source": [
    "print(t_train[:10])"
   ]
  },
  {
   "cell_type": "code",
   "execution_count": 22,
   "metadata": {},
   "outputs": [],
   "source": [
    "import matplotlib.pyplot as plt"
   ]
  },
  {
   "cell_type": "code",
   "execution_count": 23,
   "metadata": {},
   "outputs": [
    {
     "data": {
      "image/png": "[encoded data removed]",
      "text/plain": [
       "<Figure size 432x432 with 25 Axes>"
      ]
     },
     "metadata": {
      "needs_background": "light"
     },
     "output_type": "display_data"
    }
   ],
   "source": [
    "plt.figure(figsize=(6,6))\n",
    "\n",
    "for i in range(25):\n",
    "    plt.subplot(5,5,i+1)\n",
    "    plt.imshow(x_train[i], cmap = 'gray')\n",
    "    plt.axis('off')\n",
    "plt.show()"
   ]
  },
  {
   "cell_type": "code",
   "execution_count": 24,
   "metadata": {},
   "outputs": [],
   "source": [
    "# Normalization만 수행하고, One-Hot Encoding은 수행 X\n",
    "x_train = (x_train - 0.0) / 255\n",
    "x_test = (x_test - 0.0) / 255"
   ]
  },
  {
   "cell_type": "markdown",
   "metadata": {},
   "source": [
    "# 모델 구축 , Layer add"
   ]
  },
  {
   "cell_type": "code",
   "execution_count": 25,
   "metadata": {},
   "outputs": [],
   "source": [
    "model = tf.keras.Sequential()\n",
    "model.add(tf.keras.layers.Flatten(input_shape = (28,28)))\n",
    "model.add(tf.keras.layers.Dense(100, activation='relu'))\n",
    "model.add(tf.keras.layers.Dense(10, activation='softmax'))\n"
   ]
  },
  {
   "cell_type": "markdown",
   "metadata": {},
   "source": [
    "# Model compile"
   ]
  },
  {
   "cell_type": "code",
   "execution_count": 29,
   "metadata": {},
   "outputs": [],
   "source": [
    "# loss를 \"sparse_categorical_crossentropy\"로 한 이유는 One-Hot_Encoding하지 않고, 3,2,1,0,9와 같은\n",
    "# 답안을 그대로 사용했기 때문 \n",
    "model.compile(optimizer=tf.keras.optimizers.Adam(learning_rate=1e-3), \n",
    "             loss='sparse_categorical_crossentropy',\n",
    "             metrics=['accuracy'])\n"
   ]
  },
  {
   "cell_type": "code",
   "execution_count": 30,
   "metadata": {},
   "outputs": [
    {
     "name": "stdout",
     "output_type": "stream",
     "text": [
      "Model: \"sequential_1\"\n",
      "_________________________________________________________________\n",
      "Layer (type)                 Output Shape              Param #   \n",
      "=================================================================\n",
      "flatten_1 (Flatten)          (None, 784)               0         \n",
      "_________________________________________________________________\n",
      "dense_2 (Dense)              (None, 100)               78500     \n",
      "_________________________________________________________________\n",
      "dense_3 (Dense)              (None, 10)                1010      \n",
      "=================================================================\n",
      "Total params: 79,510\n",
      "Trainable params: 79,510\n",
      "Non-trainable params: 0\n",
      "_________________________________________________________________\n"
     ]
    }
   ],
   "source": [
    "model.summary()"
   ]
  },
  {
   "cell_type": "markdown",
   "metadata": {},
   "source": [
    "# model fit"
   ]
  },
  {
   "cell_type": "code",
   "execution_count": 31,
   "metadata": {},
   "outputs": [
    {
     "name": "stdout",
     "output_type": "stream",
     "text": [
      "Epoch 1/30\n",
      "1313/1313 [==============================] - 2s 1ms/step - loss: 0.6843 - accuracy: 0.7655 - val_loss: 0.4791 - val_accuracy: 0.8232\n",
      "Epoch 2/30\n",
      "1313/1313 [==============================] - 1s 909us/step - loss: 0.4087 - accuracy: 0.8531 - val_loss: 0.4257 - val_accuracy: 0.8456\n",
      "Epoch 3/30\n",
      "1313/1313 [==============================] - 1s 917us/step - loss: 0.3575 - accuracy: 0.8712 - val_loss: 0.3908 - val_accuracy: 0.8580\n",
      "Epoch 4/30\n",
      "1313/1313 [==============================] - 1s 913us/step - loss: 0.3273 - accuracy: 0.8821 - val_loss: 0.3479 - val_accuracy: 0.8735\n",
      "Epoch 5/30\n",
      "1313/1313 [==============================] - 1s 918us/step - loss: 0.3044 - accuracy: 0.8891 - val_loss: 0.3338 - val_accuracy: 0.8786\n",
      "Epoch 6/30\n",
      "1313/1313 [==============================] - 1s 917us/step - loss: 0.2937 - accuracy: 0.8933 - val_loss: 0.3416 - val_accuracy: 0.8765\n",
      "Epoch 7/30\n",
      "1313/1313 [==============================] - 1s 950us/step - loss: 0.2767 - accuracy: 0.8956 - val_loss: 0.3200 - val_accuracy: 0.8860\n",
      "Epoch 8/30\n",
      "1313/1313 [==============================] - 1s 916us/step - loss: 0.2618 - accuracy: 0.9035 - val_loss: 0.3322 - val_accuracy: 0.8806\n",
      "Epoch 9/30\n",
      "1313/1313 [==============================] - 1s 913us/step - loss: 0.2535 - accuracy: 0.9050 - val_loss: 0.3221 - val_accuracy: 0.8838\n",
      "Epoch 10/30\n",
      "1313/1313 [==============================] - 1s 924us/step - loss: 0.2428 - accuracy: 0.9095 - val_loss: 0.3322 - val_accuracy: 0.8860\n",
      "Epoch 11/30\n",
      "1313/1313 [==============================] - 1s 918us/step - loss: 0.2384 - accuracy: 0.9117 - val_loss: 0.3232 - val_accuracy: 0.8856\n",
      "Epoch 12/30\n",
      "1313/1313 [==============================] - 1s 968us/step - loss: 0.2254 - accuracy: 0.9171 - val_loss: 0.3371 - val_accuracy: 0.8841\n",
      "Epoch 13/30\n",
      "1313/1313 [==============================] - 1s 925us/step - loss: 0.2237 - accuracy: 0.9152 - val_loss: 0.3246 - val_accuracy: 0.8864\n",
      "Epoch 14/30\n",
      "1313/1313 [==============================] - 1s 921us/step - loss: 0.2139 - accuracy: 0.9212 - val_loss: 0.3245 - val_accuracy: 0.8887\n",
      "Epoch 15/30\n",
      "1313/1313 [==============================] - 1s 947us/step - loss: 0.2060 - accuracy: 0.9224 - val_loss: 0.3327 - val_accuracy: 0.8884\n",
      "Epoch 16/30\n",
      "1313/1313 [==============================] - 1s 915us/step - loss: 0.2001 - accuracy: 0.9262 - val_loss: 0.3457 - val_accuracy: 0.8838\n",
      "Epoch 17/30\n",
      "1313/1313 [==============================] - 1s 919us/step - loss: 0.1939 - accuracy: 0.9269 - val_loss: 0.3259 - val_accuracy: 0.8894\n",
      "Epoch 18/30\n",
      "1313/1313 [==============================] - 1s 943us/step - loss: 0.1908 - accuracy: 0.9279 - val_loss: 0.3223 - val_accuracy: 0.8931\n",
      "Epoch 19/30\n",
      "1313/1313 [==============================] - 1s 938us/step - loss: 0.1866 - accuracy: 0.9301 - val_loss: 0.3406 - val_accuracy: 0.8868\n",
      "Epoch 20/30\n",
      "1313/1313 [==============================] - 1s 925us/step - loss: 0.1788 - accuracy: 0.9332 - val_loss: 0.3655 - val_accuracy: 0.8866\n",
      "Epoch 21/30\n",
      "1313/1313 [==============================] - 1s 935us/step - loss: 0.1785 - accuracy: 0.9343 - val_loss: 0.3660 - val_accuracy: 0.8868\n",
      "Epoch 22/30\n",
      "1313/1313 [==============================] - 1s 934us/step - loss: 0.1701 - accuracy: 0.9364 - val_loss: 0.3598 - val_accuracy: 0.8901\n",
      "Epoch 23/30\n",
      "1313/1313 [==============================] - 1s 921us/step - loss: 0.1659 - accuracy: 0.9382 - val_loss: 0.3454 - val_accuracy: 0.8905\n",
      "Epoch 24/30\n",
      "1313/1313 [==============================] - 1s 924us/step - loss: 0.1549 - accuracy: 0.9444 - val_loss: 0.3759 - val_accuracy: 0.8876\n",
      "Epoch 25/30\n",
      "1313/1313 [==============================] - 1s 943us/step - loss: 0.1570 - accuracy: 0.9409 - val_loss: 0.3662 - val_accuracy: 0.8896\n",
      "Epoch 26/30\n",
      "1313/1313 [==============================] - 1s 963us/step - loss: 0.1528 - accuracy: 0.9433 - val_loss: 0.3955 - val_accuracy: 0.8861\n",
      "Epoch 27/30\n",
      "1313/1313 [==============================] - 1s 1ms/step - loss: 0.1538 - accuracy: 0.9413 - val_loss: 0.3863 - val_accuracy: 0.8898\n",
      "Epoch 28/30\n",
      "1313/1313 [==============================] - 1s 1ms/step - loss: 0.1472 - accuracy: 0.9457 - val_loss: 0.3683 - val_accuracy: 0.8904\n",
      "Epoch 29/30\n",
      "1313/1313 [==============================] - 1s 903us/step - loss: 0.1373 - accuracy: 0.9495 - val_loss: 0.4013 - val_accuracy: 0.8834\n",
      "Epoch 30/30\n",
      "1313/1313 [==============================] - 1s 963us/step - loss: 0.1400 - accuracy: 0.9483 - val_loss: 0.3716 - val_accuracy: 0.8922\n"
     ]
    }
   ],
   "source": [
    "hist = model.fit(x_train, t_train, epochs=30, validation_split=0.3)"
   ]
  },
  {
   "cell_type": "code",
   "execution_count": 32,
   "metadata": {},
   "outputs": [
    {
     "name": "stdout",
     "output_type": "stream",
     "text": [
      "313/313 [==============================] - 0s 585us/step - loss: 0.4163 - accuracy: 0.8837\n"
     ]
    },
    {
     "data": {
      "text/plain": [
       "[0.41628751158714294, 0.8837000131607056]"
      ]
     },
     "execution_count": 32,
     "metadata": {},
     "output_type": "execute_result"
    }
   ],
   "source": [
    "model.evaluate(x_test, t_test)"
   ]
  },
  {
   "cell_type": "markdown",
   "metadata": {},
   "source": [
    "# 손실 및 정확도"
   ]
  },
  {
   "cell_type": "code",
   "execution_count": 33,
   "metadata": {},
   "outputs": [
    {
     "data": {
      "image/png": "[encoded data removed]",
      "text/plain": [
       "<Figure size 432x288 with 1 Axes>"
      ]
     },
     "metadata": {
      "needs_background": "light"
     },
     "output_type": "display_data"
    }
   ],
   "source": [
    "plt.title('Loss')\n",
    "plt.xlabel('epochs')\n",
    "plt.ylabel('loss')\n",
    "plt.grid()\n",
    "\n",
    "plt.plot(hist.history['loss'], label='train loss')\n",
    "plt.plot(hist.history['val_loss'], label='validation loss')\n",
    "\n",
    "plt.legend(loc='best')\n",
    "plt.show()\n"
   ]
  },
  {
   "cell_type": "code",
   "execution_count": 35,
   "metadata": {},
   "outputs": [
    {
     "data": {
      "image/png": "[encoded data removed]",
      "text/plain": [
       "<Figure size 432x288 with 1 Axes>"
      ]
     },
     "metadata": {
      "needs_background": "light"
     },
     "output_type": "display_data"
    }
   ],
   "source": [
    "plt.title('Accuracy')\n",
    "plt.xlabel('epochs')\n",
    "plt.ylabel('accuracy')\n",
    "plt.grid()\n",
    "\n",
    "plt.plot(hist.history['accuracy'], label='train accuracy', color = 'red')\n",
    "plt.plot(hist.history['val_accuracy'], label='validation accuracy', color = 'blue')\n",
    "\n",
    "plt.legend(loc='best')\n",
    "plt.show()\n",
    "\n"
   ]
  },
  {
   "cell_type": "code",
   "execution_count": 36,
   "metadata": {},
   "outputs": [
    {
     "data": {
      "text/plain": [
       "tensorflow.python.keras.callbacks.History"
      ]
     },
     "execution_count": 36,
     "metadata": {},
     "output_type": "execute_result"
    }
   ],
   "source": [
    "type(hist)"
   ]
  },
  {
   "cell_type": "code",
   "execution_count": 41,
   "metadata": {},
   "outputs": [
    {
     "name": "stdout",
     "output_type": "stream",
     "text": [
      "4\n"
     ]
    }
   ],
   "source": [
    "print(len(hist.history))\n"
   ]
  },
  {
   "cell_type": "code",
   "execution_count": 43,
   "metadata": {},
   "outputs": [
    {
     "data": {
      "text/plain": [
       "{'loss': [0.5325331687927246,\n",
       "  0.3988678753376007,\n",
       "  0.35611408948898315,\n",
       "  0.32995420694351196,\n",
       "  0.3086264729499817,\n",
       "  0.29100680351257324,\n",
       "  0.2776866853237152,\n",
       "  0.26596733927726746,\n",
       "  0.2554621994495392,\n",
       "  0.24531033635139465,\n",
       "  0.23915882408618927,\n",
       "  0.23180443048477173,\n",
       "  0.22232617437839508,\n",
       "  0.2148589789867401,\n",
       "  0.21101392805576324,\n",
       "  0.2035217583179474,\n",
       "  0.19736333191394806,\n",
       "  0.19241398572921753,\n",
       "  0.18567156791687012,\n",
       "  0.18223407864570618,\n",
       "  0.1772899478673935,\n",
       "  0.173062264919281,\n",
       "  0.16804879903793335,\n",
       "  0.16191211342811584,\n",
       "  0.1600223034620285,\n",
       "  0.15421099960803986,\n",
       "  0.15165723860263824,\n",
       "  0.148899644613266,\n",
       "  0.14299634099006653,\n",
       "  0.14160872995853424],\n",
       " 'accuracy': [0.8152381181716919,\n",
       "  0.8566904664039612,\n",
       "  0.8719523549079895,\n",
       "  0.8804047703742981,\n",
       "  0.8866666555404663,\n",
       "  0.8934999704360962,\n",
       "  0.895809531211853,\n",
       "  0.9021904468536377,\n",
       "  0.9048095345497131,\n",
       "  0.9085476398468018,\n",
       "  0.9109523892402649,\n",
       "  0.9143333435058594,\n",
       "  0.916690468788147,\n",
       "  0.9195952415466309,\n",
       "  0.9217380881309509,\n",
       "  0.9243571162223816,\n",
       "  0.925428569316864,\n",
       "  0.9275714159011841,\n",
       "  0.9306190609931946,\n",
       "  0.9319761991500854,\n",
       "  0.9348333477973938,\n",
       "  0.9359999895095825,\n",
       "  0.9377142786979675,\n",
       "  0.9405476450920105,\n",
       "  0.9405476450920105,\n",
       "  0.9429047703742981,\n",
       "  0.9417856931686401,\n",
       "  0.944690465927124,\n",
       "  0.9461904764175415,\n",
       "  0.9476666450500488],\n",
       " 'val_loss': [0.47912824153900146,\n",
       "  0.4256812632083893,\n",
       "  0.3907945156097412,\n",
       "  0.3479035496711731,\n",
       "  0.3337998390197754,\n",
       "  0.3416278064250946,\n",
       "  0.3199510872364044,\n",
       "  0.33221641182899475,\n",
       "  0.32205629348754883,\n",
       "  0.3322000801563263,\n",
       "  0.32315221428871155,\n",
       "  0.33706942200660706,\n",
       "  0.3245947062969208,\n",
       "  0.32451292872428894,\n",
       "  0.332726389169693,\n",
       "  0.3456592559814453,\n",
       "  0.32588109374046326,\n",
       "  0.32225608825683594,\n",
       "  0.3406250476837158,\n",
       "  0.36550039052963257,\n",
       "  0.36600184440612793,\n",
       "  0.35984620451927185,\n",
       "  0.3454378545284271,\n",
       "  0.3759112060070038,\n",
       "  0.36618682742118835,\n",
       "  0.3955116868019104,\n",
       "  0.3862707316875458,\n",
       "  0.3682626485824585,\n",
       "  0.40134674310684204,\n",
       "  0.3716244697570801],\n",
       " 'val_accuracy': [0.8231666684150696,\n",
       "  0.8455555438995361,\n",
       "  0.8579999804496765,\n",
       "  0.8734999895095825,\n",
       "  0.8785555362701416,\n",
       "  0.8765000104904175,\n",
       "  0.8859999775886536,\n",
       "  0.8806111216545105,\n",
       "  0.8837777972221375,\n",
       "  0.8859999775886536,\n",
       "  0.8856111168861389,\n",
       "  0.8841111063957214,\n",
       "  0.8864444494247437,\n",
       "  0.8887222409248352,\n",
       "  0.8883888721466064,\n",
       "  0.8837777972221375,\n",
       "  0.8894444704055786,\n",
       "  0.8931111097335815,\n",
       "  0.8868333101272583,\n",
       "  0.8866111040115356,\n",
       "  0.8868333101272583,\n",
       "  0.8900555372238159,\n",
       "  0.890500009059906,\n",
       "  0.8875555396080017,\n",
       "  0.8896111249923706,\n",
       "  0.8860555291175842,\n",
       "  0.8897777795791626,\n",
       "  0.8904444575309753,\n",
       "  0.883388876914978,\n",
       "  0.8921666741371155]}"
      ]
     },
     "execution_count": 43,
     "metadata": {},
     "output_type": "execute_result"
    }
   ],
   "source": [
    "# loss, accuracy, val_loss, val_accuracy 총 4가지가 담겨있음 \n",
    "hist.history"
   ]
  },
  {
   "cell_type": "code",
   "execution_count": 44,
   "metadata": {},
   "outputs": [
    {
     "data": {
      "text/plain": [
       "30"
      ]
     },
     "execution_count": 44,
     "metadata": {},
     "output_type": "execute_result"
    }
   ],
   "source": [
    "len(hist.history['loss'])"
   ]
  },
  {
   "cell_type": "code",
   "execution_count": 45,
   "metadata": {},
   "outputs": [
    {
     "data": {
      "text/plain": [
       "30"
      ]
     },
     "execution_count": 45,
     "metadata": {},
     "output_type": "execute_result"
    }
   ],
   "source": [
    "len(hist.history['accuracy'])"
   ]
  },
  {
   "cell_type": "code",
   "execution_count": 46,
   "metadata": {},
   "outputs": [
    {
     "data": {
      "text/plain": [
       "30"
      ]
     },
     "execution_count": 46,
     "metadata": {},
     "output_type": "execute_result"
    }
   ],
   "source": [
    "len(hist.history['val_accuracy'])"
   ]
  },
  {
   "cell_type": "code",
   "execution_count": 47,
   "metadata": {},
   "outputs": [
    {
     "data": {
      "text/plain": [
       "30"
      ]
     },
     "execution_count": 47,
     "metadata": {},
     "output_type": "execute_result"
    }
   ],
   "source": [
    "len(hist.history['val_loss'])"
   ]
  },
  {
   "cell_type": "code",
   "execution_count": 48,
   "metadata": {},
   "outputs": [],
   "source": [
    "#왜 위의 값들이 모두 30개냐? ==> epoch가 30개였으니!!"
   ]
  },
  {
   "cell_type": "markdown",
   "metadata": {},
   "source": [
    "# Confusion matrix로 예측 현황 살펴보기"
   ]
  },
  {
   "cell_type": "code",
   "execution_count": 49,
   "metadata": {},
   "outputs": [],
   "source": [
    "from sklearn.metrics import confusion_matrix\n",
    "import seaborn as sns"
   ]
  },
  {
   "cell_type": "code",
   "execution_count": 51,
   "metadata": {},
   "outputs": [
    {
     "data": {
      "image/png": "[encoded data removed]",
      "text/plain": [
       "<Figure size 432x432 with 2 Axes>"
      ]
     },
     "metadata": {
      "needs_background": "light"
     },
     "output_type": "display_data"
    }
   ],
   "source": [
    "plt.figure(figsize=(6,6))\n",
    "\n",
    "# model.predict는 One-Hot Encoding 형태로 return해주므로, argmax로 변환해줘야함.\n",
    "predicted_value = model.predict(x_test)\n",
    "\n",
    "cm = confusion_matrix(t_test, np.argmax(predicted_value, axis=-1))\n",
    "\n",
    "sns.heatmap(cm, annot=True, fmt='d')\n",
    "plt.show()"
   ]
  },
  {
   "cell_type": "code",
   "execution_count": 52,
   "metadata": {
    "scrolled": true
   },
   "outputs": [
    {
     "name": "stdout",
     "output_type": "stream",
     "text": [
      "[[802   3  19  24   7   1 132   0  12   0]\n",
      " [  3 966   2  21   5   0   3   0   0   0]\n",
      " [ 10   0 783  14 108   0  85   0   0   0]\n",
      " [ 25   4  11 899  31   0  25   0   5   0]\n",
      " [  1   1  62  35 822   0  74   0   5   0]\n",
      " [  1   0   0   1   0 960   0  22   2  14]\n",
      " [104   1  70  26  67   0 720   0  12   0]\n",
      " [  0   0   0   0   0  13   0 960   1  26]\n",
      " [  7   0   4   1   7   2   6   4 969   0]\n",
      " [  0   0   0   0   0  10   1  33   0 956]]\n"
     ]
    }
   ],
   "source": [
    "print(cm)"
   ]
  },
  {
   "cell_type": "code",
   "execution_count": 54,
   "metadata": {},
   "outputs": [
    {
     "name": "stdout",
     "output_type": "stream",
     "text": [
      "313/313 [==============================] - 0s 528us/step - loss: 0.4163 - accuracy: 0.8837\n"
     ]
    },
    {
     "data": {
      "text/plain": [
       "[0.41628751158714294, 0.8837000131607056]"
      ]
     },
     "execution_count": 54,
     "metadata": {},
     "output_type": "execute_result"
    }
   ],
   "source": [
    "model.evaluate(x_test, t_test)\n"
   ]
  },
  {
   "cell_type": "markdown",
   "metadata": {},
   "source": [
    "## 88% 의 정확도"
   ]
  },
  {
   "cell_type": "code",
   "execution_count": null,
   "metadata": {},
   "outputs": [],
   "source": []
  }
 ],
 "metadata": {
  "kernelspec": {
   "display_name": "Python 3",
   "language": "python",
   "name": "python3"
  },
  "language_info": {
   "codemirror_mode": {
    "name": "ipython",
    "version": 3
   },
   "file_extension": ".py",
   "mimetype": "text/x-python",
   "name": "python",
   "nbconvert_exporter": "python",
   "pygments_lexer": "ipython3",
   "version": "3.7.6"
  }
 },
 "nbformat": 4,
 "nbformat_minor": 4
}
